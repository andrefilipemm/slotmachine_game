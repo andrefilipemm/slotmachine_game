{
 "cells": [
  {
   "attachments": {},
   "cell_type": "markdown",
   "metadata": {},
   "source": [
    "# Sequences Analysis and Payout Calculation Script"
   ]
  },
  {
   "attachments": {},
   "cell_type": "markdown",
   "metadata": {},
   "source": [
    "#### Compute the Total Hits and Total Prizes"
   ]
  },
  {
   "cell_type": "code",
   "execution_count": 67,
   "metadata": {},
   "outputs": [],
   "source": [
    "reels = dict()\n",
    "\n",
    "reels[1] = [0, 2, 3, 7, 4, 0, 2, 6, 3, 7, 1, 5, 4, 2, 5, 0, 1, 3, 8, 4]\n",
    "reels[2] = [7, 3, 2, 4, 5, 3, 8, 4, 1, 0, 5, 6, 8, 0, 2, 1, 1, 7, 0, 8, 0, 2, 6, 1, 3, 2, 4, 3, 7, 1]\n",
    "reels[3] = [8, 4, 2, 1, 0, 4, 2, 5, 7, 6, 0, 2, 3, 1, 6, 4, 0, 3, 7, 5, 3, 0, 1, 2, 1]\n",
    "reels[4] = [6, 5, 1, 4, 2, 5, 7, 1, 0, 4, 2, 3, 8, 2, 6, 0, 4, 1, 2, 0, 3, 1, 4, 7, 3, 0, 5, 3, 4]\n",
    "reels[5] = [8, 3, 4, 6, 0, 7, 4, 0, 5, 4, 6, 2, 5, 1, 3, 0, 1, 2, 7, 2, 5, 3, 1, 6, 0, 3, 2, 7]\n",
    "\n",
    "prizes = dict()\n",
    "\n",
    "prizes[0] = [0, 0, 40, 80, 400]\n",
    "prizes[1] = [0, 0, 60, 120, 600]\n",
    "prizes[2] = [0, 0, 80, 160, 800]\n",
    "prizes[3] = [0, 0, 100, 200, 1000]\n",
    "prizes[4] = [0, 0, 120, 240, 1200]\n",
    "prizes[5] = [0, 0, 140, 280, 1400]\n",
    "prizes[6] = [0, 0, 160, 320, 1600]\n",
    "prizes[7] = [0, 0, 300, 600, 12000]\n",
    "prizes[8] = [0, 0, 600, 1200, 50000]\n",
    "\n",
    "def sigma(k):\n",
    "\treturn len(reels[k])                # counts the ocurrence of all the symbols in the kth reel\n",
    "\n",
    "number_of_possible_spins = sigma(1) * sigma(2) * sigma(3) * sigma(4) * sigma(5)"
   ]
  },
  {
   "cell_type": "code",
   "execution_count": 68,
   "metadata": {},
   "outputs": [],
   "source": [
    "total_hits = dict()\n",
    "    \n",
    "total_hits[0] = []\n",
    "total_hits[1] = []\n",
    "total_hits[2] = []\n",
    "total_hits[3] = []\n",
    "total_hits[4] = []\n",
    "total_hits[5] = []\n",
    "total_hits[6] = []\n",
    "total_hits[7] = []\n",
    "total_hits[8] = []\n",
    "\n",
    "total_prizes = dict()\n",
    "\n",
    "total_prizes[0] = []\n",
    "total_prizes[1] = []\n",
    "total_prizes[2] = []\n",
    "total_prizes[3] = []\n",
    "total_prizes[4] = []\n",
    "total_prizes[5] = []\n",
    "total_prizes[6] = []\n",
    "total_prizes[7] = []\n",
    "total_prizes[8] = []\n",
    "\n",
    "# Computes the amount of total hits\n",
    "\n",
    "for i in range(9):\n",
    "    sequence_5 = reels[1].count(i) * reels[2].count(i) * reels[3].count(i) * reels[4].count(i) * reels[5].count(i) # one unique case scenario\n",
    "    \n",
    "    sequence_4 = \\\n",
    "        (sigma(1) - reels[1].count(i)) * reels[2].count(i) * reels[3].count(i) * reels[4].count(i) * reels[5].count(i) + \\\n",
    "        reels[1].count(i) * reels[2].count(i) * reels[3].count(i) * reels[4].count(i) * (sigma(5) - reels[5].count(i) )         # two possible settings\n",
    "    \n",
    "    sequence_3 = \\\n",
    "        (reels[1].count(i) * reels[2].count(i) * reels[3].count(i) * (sigma(4) - reels[4].count(i)) * (sigma(5) - reels[5].count(i)) + \\\n",
    "        (sigma(1) - reels[1].count(i)) * reels[2].count(i) * reels[3].count(i) * reels[4].count(i) * (sigma(5) - reels[5].count(i)) + \\\n",
    "        (sigma(1) - reels[1].count(i)) * (sigma(2) - reels[2].count(i)) * reels[3].count(i) * reels[4].count(i) * reels[5].count(i) )       # three possible settings\n",
    "        \n",
    "    sequence_2 = \\\n",
    "        (reels[1].count(i) * reels[2].count(i) * (sigma(3) - reels[3].count(i)) * (sigma(4) - reels[4].count(i)) + \\\n",
    "        (sigma(1) - reels[1].count(i)) * (sigma(2) - reels[2].count(i)) * reels[3].count(i) * reels[4].count(i) * (sigma(5) - reels[5].count(i)) + \\\n",
    "        (sigma(1) - reels[1].count(i)) * (sigma(2) - reels[2].count(i)) * (sigma(3) - reels[3].count(i)) * reels[4].count(i) * reels[5].count(i) )      # three possible settings\n",
    "        \n",
    "    sequence_1 = \\\n",
    "        (reels[1].count(i) * (sigma(2) - reels[2].count(i)) * (sigma(3) - reels[3].count(i)) * (sigma(4) - reels[4].count(i)) * (sigma(5) - reels[5].count(i)) + \\\n",
    "        (sigma(1) - reels[1].count(i)) * reels[2].count(i) * (sigma(3) - reels[3].count(i)) * (sigma(4) - reels[4].count(i)) * (sigma(5) - reels[5].count(i)) + \\\n",
    "        (sigma(1) - reels[1].count(i)) * (sigma(2) - reels[2].count(i)) * reels[3].count(i) * (sigma(4) - reels[4].count(i)) * (sigma(5) - reels[5].count(i)) + \\\n",
    "        (sigma(1) - reels[1].count(i)) * (sigma(2) - reels[2].count(i)) * (sigma(3) - reels[3].count(i)) * reels[4].count(i) * (sigma(5) - reels[5].count(i)) + \\\n",
    "        (sigma(1) - reels[1].count(i)) * (sigma(2) - reels[2].count(i)) * (sigma(3) - reels[3].count(i)) * (sigma(4) - reels[4].count(i)) * reels[5].count(i) )           # five possible settings\n",
    "    \n",
    "    total_hits[i].append(sequence_5)\n",
    "    total_hits[i].append(sequence_4)\n",
    "    total_hits[i].append(sequence_3)                        # we store the values in the total_hits dictionary\n",
    "    total_hits[i].append(sequence_2)\n",
    "    total_hits[i].append(sequence_1)\n",
    "    \n",
    "    # Computes the total prizes: prizes * total_hits\n",
    "    for j in range(5):\n",
    "        prize_value = prizes[i][j]*total_hits[i][j]\n",
    "        total_prizes[i].append(prize_value)                 # we store the values in the total_prizes dictionary\n",
    "\n",
    "\n"
   ]
  },
  {
   "attachments": {},
   "cell_type": "markdown",
   "metadata": {},
   "source": [
    "#### Total Hits and Total Prizes display"
   ]
  },
  {
   "cell_type": "code",
   "execution_count": 73,
   "metadata": {},
   "outputs": [
    {
     "name": "stdout",
     "output_type": "stream",
     "text": [
      "Table for Total Hits:\n",
      "        Symbol 0  Symbol 1  Symbol 2  Symbol 3  Symbol 4  Symbol 5  Symbol 6  Symbol 7  Symbol 8\n",
      "Size 5       768       480       768       576       405        72        24        72         3\n",
      "Size 4      8960      8320      8960      6720      5670      1248       656      1248       138\n",
      "Size 3     83200     82600     83200     62400     55980     19672     12884     19332      4320\n",
      "Size 2    324540    298650    324540    289480    328347    182320    127858    119394     28179\n",
      "Size 1   4719672   4616250   4719672   4628704   4557906   3804176   3345766   3797118   2589084\n",
      "\n",
      "\n",
      "Table for Total Prizes:\n",
      "         Symbol 0    Symbol 1    Symbol 2    Symbol 3    Symbol 4    Symbol 5    Symbol 6    Symbol 7      Symbol 8  \n",
      "Size 1           0           0           0           0           0           0           0            0             0\n",
      "Size 2           0           0           0           0           0           0           0            0             0\n",
      "Size 3     3328000     4956000     6656000     6240000     6717600     2754080     2061440      5799600       2592000\n",
      "Size 4    25963200    35838000    51926400    57896000    78803280    51049600    40914560     71636400      33814800\n",
      "Size 5  1887868800  2769750000  3775737600  4628704000  5469487200  5325846400  5353225600  45565416000  129454200000\n"
     ]
    }
   ],
   "source": [
    "\n",
    "import pandas as pd\n",
    "import numpy as np\n",
    "import matplotlib.pyplot as plt\n",
    "\n",
    "# Create a DataFrame for total hits\n",
    "df_hits = pd.DataFrame(total_hits)\n",
    "df_hits.index.name = 'Sequence Size'\n",
    "df_hits.index = ['Size 5', 'Size 4', 'Size 3', 'Size 2', 'Size 1']\n",
    "df_hits.columns = ['Symbol ' + str(i) for i in df_hits.columns]\n",
    "\n",
    "# Create a DataFrame for total prizes\n",
    "df_prizes = pd.DataFrame(total_prizes)\n",
    "df_prizes.index.name = 'Sequence Size'\n",
    "df_prizes.index = ['Size 1', 'Size 2', 'Size 3', 'Size 4', 'Size 5']\n",
    "df_prizes.columns = ['Symbol ' + str(i) for i in df_prizes.columns]\n",
    "\n",
    "np.sort(df_prizes.index)\n",
    "\n",
    "# Convert the DataFrames to non-scrollable table format with centered values\n",
    "table_hits = df_hits.to_string(index=True, justify='center')\n",
    "table_prizes = df_prizes.to_string(index=True, justify='center')\n",
    "\n",
    "# Display the tables\n",
    "print(\"Table for Total Hits:\")\n",
    "print(table_hits)\n",
    "print(\"\\n\\nTable for Total Prizes:\")\n",
    "print(table_prizes)\n",
    "\n"
   ]
  },
  {
   "cell_type": "markdown",
   "metadata": {},
   "source": []
  },
  {
   "attachments": {},
   "cell_type": "markdown",
   "metadata": {},
   "source": [
    "#### Compute the *IN* and *OUT* values"
   ]
  },
  {
   "cell_type": "code",
   "execution_count": 64,
   "metadata": {},
   "outputs": [
    {
     "name": "stdout",
     "output_type": "stream",
     "text": [
      "IN Value: 78540664\n",
      "OUT Value: 409438365120\n"
     ]
    }
   ],
   "source": [
    "# Calculate total sequences\n",
    "total_sequences = sum(sum(hits) for hits in total_hits.values())\n",
    "\n",
    "# Compute IN value\n",
    "bet_amount = 2\n",
    "IN = total_sequences * bet_amount\n",
    "\n",
    "# Calculate total prizes\n",
    "total_prizes = sum(sum(prizes) for prizes in total_prizes.values())\n",
    "\n",
    "# Compute OUT value\n",
    "OUT = total_prizes * bet_amount\n",
    "\n",
    "# Print the results\n",
    "print(\"IN Value:\", IN)\n",
    "print(\"OUT Value:\", OUT)"
   ]
  }
 ],
 "metadata": {
  "kernelspec": {
   "display_name": "Python 3",
   "language": "python",
   "name": "python3"
  },
  "language_info": {
   "codemirror_mode": {
    "name": "ipython",
    "version": 3
   },
   "file_extension": ".py",
   "mimetype": "text/x-python",
   "name": "python",
   "nbconvert_exporter": "python",
   "pygments_lexer": "ipython3",
   "version": "3.11.1"
  },
  "orig_nbformat": 4
 },
 "nbformat": 4,
 "nbformat_minor": 2
}
