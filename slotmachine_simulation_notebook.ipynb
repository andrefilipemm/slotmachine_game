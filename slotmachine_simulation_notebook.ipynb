{
 "cells": [
  {
   "attachments": {},
   "cell_type": "markdown",
   "metadata": {},
   "source": [
    "# Slot Machine Simulation"
   ]
  },
  {
   "attachments": {},
   "cell_type": "markdown",
   "metadata": {},
   "source": [
    "### In order to evalutate the reasoning implemented, we shall do a quick simulation for the case of a sequence of size four for the symbol $0$, that is a sequence with exactly four zeroes in a row. <br>\n",
    "> By spinning the machine a certain number of times (during this simulation we spun the machine $300000$ times), we're able to compare the simulated probability with the expected probability that's given by: <br>\n",
    "$$ P(\\text{sequence size four}) \\space = \\space \\frac{S_{4, 0}}{\\Sigma_1 \\times ... \\times \\Sigma_5} $$"
   ]
  },
  {
   "cell_type": "code",
   "execution_count": 9,
   "metadata": {},
   "outputs": [
    {
     "name": "stdout",
     "output_type": "stream",
     "text": [
      "There are 12180000 possible ways for all reels to land.\n",
      "Of these ways, there 8960 ways to see exacty four zeroes in a row.\n",
      "The probability of seeing four zeroes is therefore 0.000735632183908046.\n",
      "\n",
      "The simulated slot machine was spun 300000 times, and \n",
      "there were 226 instances of four zeroes in a row,\n",
      "so the simulated probability is 0.0007533333333333333.\n"
     ]
    }
   ],
   "source": [
    "from random import choice\n",
    "\n",
    "num_tests = 3 * 10 ** 5\n",
    "\n",
    "reels = dict()\n",
    "reels[1] = [0, 2, 3, 7, 4, 0, 2, 6, 3, 7, 1, 5, 4, 2, 5, 0, 1, 3, 8, 4]\n",
    "reels[2] = [7, 3, 2, 4, 5, 3, 8, 4, 1, 0, 5, 6, 8, 0, 2, 1, 1, 7, 0, 8, 0, 2, 6, 1, 3, 2, 4, 3, 7, 1]\n",
    "reels[3] = [8, 4, 2, 1, 0, 4, 2, 5, 7, 6, 0, 2, 3, 1, 6, 4, 0, 3, 7, 5, 3, 0, 1, 2, 1]\n",
    "reels[4] = [6, 5, 1, 4, 2, 5, 7, 1, 0, 4, 2, 3, 8, 2, 6, 0, 4, 1, 2, 0, 3, 1, 4, 7, 3, 0, 5, 3, 4]\n",
    "reels[5] = [8, 3, 4, 6, 0, 7, 4, 0, 5, 4, 6, 2, 5, 1, 3, 0, 1, 2, 7, 2, 5, 3, 1, 6, 0, 3, 2, 7]\n",
    "\n",
    "def sigma(k):\n",
    "\treturn len(reels[k])\n",
    "\n",
    "number_of_possible_spins = sigma(1) * sigma(2) * sigma(3) * sigma(4) * sigma(5)\n",
    "\n",
    "num_ways_to_win = \\\n",
    "(sigma(1) - reels[1].count(0)) * reels[2].count(0) * reels[3].count(0) * reels[4].count(0) * reels[5].count(0) + \\\n",
    "             reels[1].count(0) * reels[2].count(0) * reels[3].count(0) * reels[4].count(0) * (sigma(5) - reels[5].count(0) )\n",
    "\n",
    "# Simulation\n",
    "\n",
    "num_wins = 0\n",
    "for _ in range(num_tests):\n",
    "\n",
    "\t# Randomly choose a symbol from each reel.\n",
    "\tprize_line = [choice(reels[i]) for i in range(1, 6)]\n",
    "\n",
    "\t# You win if the first four symbols are zeroes, and the last is not, or\n",
    "\t# if the last four symbols are zeroes, and the first is not.\n",
    "\tif (prize_line[0:4] == [0,0,0,0] and prize_line[4] != 0) or \\\n",
    "\t   (prize_line[1:5] == [0,0,0,0] and prize_line[0] != 0):\n",
    "\t\tnum_wins += 1\n",
    "\n",
    "print(\n",
    "\tf'There are {number_of_possible_spins} possible ways for all reels to land.\\n'\n",
    "\tf'Of these ways, there {num_ways_to_win} ways to see exacty four zeroes in a row.\\n'\n",
    "\tf'The probability of seeing four zeroes is therefore {num_ways_to_win / number_of_possible_spins}.\\n\\n'\n",
    "\tf'The simulated slot machine was spun {num_tests} times, and \\n'\n",
    "\tf'there were {num_wins} instances of four zeroes in a row,\\n'\n",
    "\tf'so the simulated probability is {num_wins/num_tests}.'\n",
    ")"
   ]
  }
 ],
 "metadata": {
  "kernelspec": {
   "display_name": "Python 3",
   "language": "python",
   "name": "python3"
  },
  "language_info": {
   "codemirror_mode": {
    "name": "ipython",
    "version": 3
   },
   "file_extension": ".py",
   "mimetype": "text/x-python",
   "name": "python",
   "nbconvert_exporter": "python",
   "pygments_lexer": "ipython3",
   "version": "3.11.1"
  },
  "orig_nbformat": 4
 },
 "nbformat": 4,
 "nbformat_minor": 2
}
